{
  "cells": [
    {
      "cell_type": "markdown",
      "metadata": {
        "id": "icgF-yPyCpiA"
      },
      "source": [
        "Consider projectile motion. Suppose we wanted to find the angle at which the range was maximum, by calculating the range at different values of the angle.\n",
        "\n",
        "The formula for range is $R = v^2 sin(2θ) / g$\n",
        "\n",
        "So we create a list with many values of the angle, and then calculate the range for each of those. Then we find the maximum range in the list, and find the corresponding angle.\n",
        "    "
      ]
    },
    {
      "cell_type": "code",
      "execution_count": 2,
      "metadata": {
        "colab": {
          "base_uri": "https://localhost:8080/"
        },
        "id": "zF32LKQeAX2m",
        "outputId": "a064a410-eb95-4231-f5d1-26c018c4e9f2"
      },
      "outputs": [
        {
          "name": "stdout",
          "output_type": "stream",
          "text": [
            "[0, 5, 10, 15, 20, 25, 30, 35, 40, 45, 50, 55, 60, 65, 70, 75, 80, 85]\n",
            "[]\n",
            "The initial velocity is 100.00 m/s and the gravitational constant is 9.80 m/s^2\n"
          ]
        }
      ],
      "source": [
        "#We import a package first. This package, math is going to be used for the math.sin function.\n",
        "import math\n",
        "\n",
        "vi = 100  # in m/s\n",
        "thetavalues = [*range(0,90,5)]   # in degrees . Here we have unpacked a range using the unpacking operator *\n",
        "\n",
        "print(thetavalues)\n",
        "\n",
        "grav = 9.8   # m/s^2\n",
        "\n",
        "# Declaring two empty lists in which we will fill our angles and ranges\n",
        "angleVal = []\n",
        "rangeVal = []\n",
        "\n",
        "print(angleVal)\n",
        "\n",
        "print(f\"The initial velocity is {vi:.2f} m/s and the gravitational constant is {grav:.2f} m/s^2\")"
      ]
    },
    {
      "cell_type": "code",
      "execution_count": 3,
      "metadata": {
        "colab": {
          "base_uri": "https://localhost:8080/"
        },
        "id": "9R20VphGBLxl",
        "outputId": "97be9d49-5b79-4c63-f9ba-e19eb08b7665"
      },
      "outputs": [
        {
          "name": "stdout",
          "output_type": "stream",
          "text": [
            "Calculated for 18 values\n"
          ]
        }
      ],
      "source": [
        "# For each angle in the array, first conver it ro radians\n",
        "# Then calculate the Range for that angle\n",
        "# Add the angle (in degrees) and Range to the lists\n",
        "\n",
        "for angle in thetavalues:\n",
        "  angleInRadians = math.radians(angle)\n",
        "  MaxRange = (vi**2) * math.sin(2*angleInRadians) / grav         # Notice that since sin function is inside the package math, we call it as math.sin()\n",
        "  angleVal.append(angle)\n",
        "  rangeVal.append(MaxRange)\n",
        "\n",
        "print(f\"Calculated for {len(angleVal)} values\")"
      ]
    },
    {
      "cell_type": "code",
      "execution_count": 5,
      "metadata": {
        "colab": {
          "base_uri": "https://localhost:8080/"
        },
        "id": "a2orhyrNBuCi",
        "outputId": "30a4f176-d8d4-4b84-e828-dc54dcc9038d"
      },
      "outputs": [
        {
          "name": "stdout",
          "output_type": "stream",
          "text": [
            "The maximum range is 1020.41 m, at angle of 45 degrees.\n"
          ]
        }
      ],
      "source": [
        "\n",
        "MaximumRange = max(rangeVal)  # Find the maximum value in the list\n",
        "MaxRangePosition = rangeVal.index(MaximumRange)  # Find the index position of that value in the list\n",
        "\n",
        "MaxRangeAngle = angleVal[MaxRangePosition]  # For that index position, find the angle in the other list\n",
        "\n",
        "print(f\"The maximum range is {MaximumRange:.2f} m, at angle of {MaxRangeAngle} degrees.\")"
      ]
    },
    {
      "cell_type": "code",
      "execution_count": 6,
      "metadata": {
        "colab": {
          "base_uri": "https://localhost:8080/"
        },
        "id": "Ohk5Jo6dFYsU",
        "outputId": "5e569ced-ab5d-4a73-ca01-d3008eb5ed75"
      },
      "outputs": [
        {
          "name": "stdout",
          "output_type": "stream",
          "text": [
            "my peeps\n",
            "Alright Alright Alright my peeps\n",
            "3! = 6\n",
            "6! = 720\n",
            "0! = 1\n",
            "7! = 5040\n",
            "All done\n"
          ]
        }
      ],
      "source": [
        "#Now let us show how to write some functions\n",
        "\n",
        "#Defined a function called matthew that takes one argument\n",
        "# and returns a string\n",
        "def matthew(mystring) :\n",
        "  var = \"Alright Alright Alright \" + mystring\n",
        "  return var\n",
        "\n",
        "\n",
        "var = \"my peeps\"\n",
        "print(var)\n",
        "\n",
        "var = matthew(var)\n",
        "print(var)\n",
        "\n",
        "\n",
        "# Now we define a function that calculates the factorial of a number\n",
        "def factorial(num) :\n",
        "  if num<=0 : return 1\n",
        "  factorial = 1\n",
        "  for i in range(1,num+1):\n",
        "    factorial = factorial * i\n",
        "  \n",
        "  return factorial\n",
        "\n",
        "\n",
        "MyListofNums = [3,6,0,7]\n",
        "\n",
        "for x in MyListofNums:\n",
        "  xfact = factorial(x)\n",
        "  print(f\"{x}! = {xfact}\")\n",
        "\n",
        "print(\"All done\")\n"
      ]
    },
    {
      "cell_type": "markdown",
      "metadata": {
        "id": "xBHqLT5_GkNK"
      },
      "source": [
        "For practice, write a function that calculates the arithmetic mean and the geometric mean of a list of numbers.\n",
        "Thus we pass a list to the function, and the function returns two numbers: the arithmetic mean, and the geometric mean\n",
        "\n",
        "\n",
        "Then write a program, using lists and functions to find the first 100 prime numbers\n"
      ]
    },
    {
      "cell_type": "code",
      "execution_count": 3,
      "metadata": {
        "colab": {
          "base_uri": "https://localhost:8080/"
        },
        "id": "3-6SZzD6S6ja",
        "outputId": "3480c3f2-b569-4917-fe3d-4cc7abaa1423"
      },
      "outputs": [
        {
          "name": "stdout",
          "output_type": "stream",
          "text": [
            "Type of JustList is <class 'list'>, type of NpList is <class 'numpy.ndarray'>\n",
            "[ 1  3  5  7 11]\n",
            " For NpList:        NDim= 1, Shape= (5,),  Len= 5\n",
            "[[1 2 3]\n",
            " [4 5 6]]\n",
            " For NpList_in2D:   NDim= 2, Shape= (2, 3),  Len= 2\n",
            " For NpList_in2D:   The number of rows is 2, columns is 3\n"
          ]
        }
      ],
      "source": [
        "# Now we learn numpy arrays\n",
        "\n",
        "import numpy as np\n",
        "import math\n",
        "\n",
        "JustList = [1,3,5,7,11]\n",
        "NpList = np.array([1,3,5,7,11])\n",
        "\n",
        "NpList_in2D = np.array([[1,2,3],[4,5,6]])\n",
        "\n",
        "#Lets see dimension and shape of nd arrays\n",
        "print(f\"Type of JustList is {type(JustList)}, type of NpList is {type(NpList)}\")\n",
        "\n",
        "print(NpList)\n",
        "print(f\" For NpList:        NDim= {NpList.ndim}, Shape= {NpList.shape},  Len= {len(NpList)}\")\n",
        "\n",
        "print(NpList_in2D)\n",
        "print(f\" For NpList_in2D:   NDim= {NpList_in2D.ndim}, Shape= {NpList_in2D.shape},  Len= {len(NpList_in2D)}\")\n",
        "\n",
        "print(f\" For NpList_in2D:   The number of rows is {NpList_in2D.shape[0]}, columns is {NpList_in2D.shape[1]}\")"
      ]
    },
    {
      "cell_type": "markdown",
      "metadata": {
        "id": "bJaN0pqRUqyL"
      },
      "source": [
        "Create np arrays from arange, or linspace or with random values\n",
        "\n",
        "np arrays can be sliced like lists   [start:stop:step]"
      ]
    },
    {
      "cell_type": "code",
      "execution_count": 10,
      "metadata": {
        "colab": {
          "base_uri": "https://localhost:8080/"
        },
        "id": "KSAILXzBU18k",
        "outputId": "eb6f9b00-7a68-411b-cc0b-506869e591c7"
      },
      "outputs": [
        {
          "name": "stdout",
          "output_type": "stream",
          "text": [
            "v1 = [ 2  4  6  8 10 12]\n",
            "v2 = [0.  0.2 0.4 0.6 0.8 1. ]\n",
            "v3 = [0.64027876 0.8556261  0.56811216 0.20438984 0.7875492 ]\n",
            "v4 = [0.2 0.4 0.6]\n",
            "v5 = [0.56811216 0.20438984 0.7875492 ]\n"
          ]
        }
      ],
      "source": [
        "v1 = np.arange(2,14,2)  # start, end, step\n",
        "print(f\"v1 = {v1}\")\n",
        "\n",
        "v2 = np.linspace(0,1,6) #start, end, npoints\n",
        "print(f\"v2 = {v2}\")\n",
        "\n",
        "v3 = np.random.rand(5) #uniform in [0,1]\n",
        "print(f\"v3 = {v3}\")\n",
        "\n",
        "\n",
        "v4 = v2[1:-2]   #All from 1 to end, except last two\n",
        "print(f\"v4 = {v4}\")\n",
        "\n",
        "v5 = v3[2:]    #All from 2 to end\n",
        "print(f\"v5 = {v5}\")\n"
      ]
    },
    {
      "cell_type": "markdown",
      "metadata": {
        "id": "Gp5Ci9I-Vy6c"
      },
      "source": [
        "Now we are going to repeat the first projectile motion example using numpy arrays\n"
      ]
    },
    {
      "cell_type": "code",
      "execution_count": 4,
      "metadata": {
        "colab": {
          "base_uri": "https://localhost:8080/"
        },
        "id": "g-9t6fpoV5PW",
        "outputId": "48368870-6096-4b04-b5d4-d26ee7dcff50"
      },
      "outputs": [
        {
          "name": "stdout",
          "output_type": "stream",
          "text": [
            "The maximum range is 10.20 m, at angle of 45 degrees\n",
            "0, 0.00 m\n",
            "5, 1.77 m\n",
            "10, 3.49 m\n",
            "15, 5.10 m\n",
            "20, 6.56 m\n",
            "25, 7.82 m\n",
            "30, 8.84 m\n",
            "35, 9.59 m\n",
            "40, 10.05 m\n",
            "45, 10.20 m\n",
            "50, 10.05 m\n",
            "55, 9.59 m\n",
            "60, 8.84 m\n",
            "65, 7.82 m\n",
            "70, 6.56 m\n",
            "75, 5.10 m\n",
            "80, 3.49 m\n",
            "85, 1.77 m\n",
            "90, 0.00 m\n"
          ]
        }
      ],
      "source": [
        "\n",
        "vi = input(\"Enter initial velocity in m/s: \")\n",
        "vi = float(vi)\n",
        "\n",
        "grav = 9.8 #m/s^2\n",
        "\n",
        "thetavalues = np.arange(0,91,5)\n",
        "angleInRad = np.radians(thetavalues)\n",
        "rangeVals = (vi**2) * np.sin(2*angleInRad) /grav\n",
        "\n",
        "MaximumRange = np.amax(rangeVals)\n",
        "MaxRangePosition = np.argmax(rangeVals)\n",
        "MaxRangeAngle = thetavalues[MaxRangePosition]\n",
        "\n",
        "print(f\"The maximum range is {MaximumRange:.2f} m, at angle of {MaxRangeAngle} degrees\")\n",
        "\n",
        "#here is an additional trick to loop over two arrays\n",
        "for angle,range in zip(thetavalues, rangeVals):\n",
        "  print(f\"{angle}, {range:.2f} m\")\n"
      ]
    },
    {
      "cell_type": "code",
      "execution_count": 5,
      "metadata": {
        "colab": {
          "base_uri": "https://localhost:8080/",
          "height": 296
        },
        "id": "5Szj11ScW52c",
        "outputId": "29792624-7f02-47a9-ab07-deffe0051f47"
      },
      "outputs": [
        {
          "data": {
            "text/plain": [
              "Text(0, 0.5, 'Range [m]')"
            ]
          },
          "execution_count": 5,
          "metadata": {},
          "output_type": "execute_result"
        },
        {
          "data": {
            "image/png": "[encoded data removed]",
            "text/plain": [
              "<Figure size 640x480 with 1 Axes>"
            ]
          },
          "metadata": {},
          "output_type": "display_data"
        }
      ],
      "source": [
        "#We can plot quickly using matplotlib\n",
        "\n",
        "import matplotlib.pyplot as plt\n",
        "%matplotlib inline                     \n",
        "#This above line is needed in jupyter notebook\n",
        "\n",
        "plt.plot(thetavalues, rangeVals, color=\"red\")\n",
        "plt.xlabel(\"Angle [degrees]\")\n",
        "plt.ylabel(\"Range [m]\")\n"
      ]
    },
    {
      "cell_type": "markdown",
      "metadata": {
        "id": "ZV0fzSvRXiRK"
      },
      "source": [
        "Our aim is to use these to start to do things we want done. So start plotting, practicing. As and when needed, refer to resources for how to go beyond what we saw here today.\n",
        "\n",
        "Python reference: https://www.w3schools.com/python/python_intro.asp\n",
        "\n",
        "Scipy lecture notes: http://scipy-lectures.org/index.html\n",
        "\n",
        "Numpy documentation: https://numpy.org/doc/stable/user/index.html\n",
        "\n",
        "Matplotlib users guide: https://matplotlib.org/stable/users/index.html\n"
      ]
    }
  ],
  "metadata": {
    "colab": {
      "provenance": []
    },
    "kernelspec": {
      "display_name": "Python 3",
      "name": "python3"
    },
    "language_info": {
      "codemirror_mode": {
        "name": "ipython",
        "version": 3
      },
      "file_extension": ".py",
      "mimetype": "text/x-python",
      "name": "python",
      "nbconvert_exporter": "python",
      "pygments_lexer": "ipython3",
      "version": "3.12.1"
    }
  },
  "nbformat": 4,
  "nbformat_minor": 0
}
